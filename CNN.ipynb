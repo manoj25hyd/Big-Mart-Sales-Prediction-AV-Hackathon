{
  "nbformat": 4,
  "nbformat_minor": 0,
  "metadata": {
    "colab": {
      "name": "CNN.ipynb",
      "provenance": [],
      "collapsed_sections": [],
      "authorship_tag": "ABX9TyNVqhqhvdEAErmBm1Q0nrtu",
      "include_colab_link": true
    },
    "kernelspec": {
      "name": "python3",
      "display_name": "Python 3"
    },
    "language_info": {
      "name": "python"
    },
    "accelerator": "GPU"
  },
  "cells": [
    {
      "cell_type": "markdown",
      "metadata": {
        "id": "view-in-github",
        "colab_type": "text"
      },
      "source": [
        "<a href=\"https://colab.research.google.com/github/manoj25hyd/Big-Mart-Sales-Prediction-AV-Hackathon/blob/master/CNN.ipynb\" target=\"_parent\"><img src=\"https://colab.research.google.com/assets/colab-badge.svg\" alt=\"Open In Colab\"/></a>"
      ]
    },
    {
      "cell_type": "markdown",
      "metadata": {
        "id": "qXSKb8RBHJES"
      },
      "source": [
        "# CONVOLUTION NEURAL NETWORKS:"
      ]
    },
    {
      "cell_type": "code",
      "metadata": {
        "id": "Q7CYnec5HYs8"
      },
      "source": [
        "# Import Libraries\n",
        "import tensorflow as ts\n",
        "from tensorflow.keras import datasets, layers, models\n",
        "import matplotlib.pyplot as plt\n",
        "import numpy as np"
      ],
      "execution_count": 1,
      "outputs": []
    },
    {
      "cell_type": "code",
      "metadata": {
        "colab": {
          "base_uri": "https://localhost:8080/"
        },
        "id": "dgSh5pcnINsn",
        "outputId": "80d29848-589d-4a28-f414-ba035a10def9"
      },
      "source": [
        "# Import Dataset\n",
        "(X_train, y_train), (X_test, y_test) = datasets.cifar10.load_data()"
      ],
      "execution_count": 2,
      "outputs": [
        {
          "output_type": "stream",
          "text": [
            "Downloading data from https://www.cs.toronto.edu/~kriz/cifar-10-python.tar.gz\n",
            "170500096/170498071 [==============================] - 2s 0us/step\n"
          ],
          "name": "stdout"
        }
      ]
    },
    {
      "cell_type": "code",
      "metadata": {
        "colab": {
          "base_uri": "https://localhost:8080/"
        },
        "id": "yoS8Yki6IymA",
        "outputId": "c76519ae-63c6-4132-eaf5-e5a0ad402d79"
      },
      "source": [
        "# Print X_train shape\n",
        "X_train.shape"
      ],
      "execution_count": 3,
      "outputs": [
        {
          "output_type": "execute_result",
          "data": {
            "text/plain": [
              "(50000, 32, 32, 3)"
            ]
          },
          "metadata": {
            "tags": []
          },
          "execution_count": 3
        }
      ]
    },
    {
      "cell_type": "markdown",
      "metadata": {
        "id": "E8x3yDVfJOy7"
      },
      "source": [
        "*We have 50,000 color images in train data with image size of 32x32 with RGB color channel.*"
      ]
    },
    {
      "cell_type": "code",
      "metadata": {
        "colab": {
          "base_uri": "https://localhost:8080/"
        },
        "id": "d8AY3XSxI7Gr",
        "outputId": "7da94796-5cdf-4162-f014-0ed57a907552"
      },
      "source": [
        "# Print X_test shape\n",
        "X_test.shape"
      ],
      "execution_count": 4,
      "outputs": [
        {
          "output_type": "execute_result",
          "data": {
            "text/plain": [
              "(10000, 32, 32, 3)"
            ]
          },
          "metadata": {
            "tags": []
          },
          "execution_count": 4
        }
      ]
    },
    {
      "cell_type": "markdown",
      "metadata": {
        "id": "Jh_BKkfsLRz6"
      },
      "source": [
        "*We have 10,000 color images in train data with image size of 32x32 with RGB color channel.*"
      ]
    },
    {
      "cell_type": "code",
      "metadata": {
        "colab": {
          "base_uri": "https://localhost:8080/"
        },
        "id": "6C8ANb37KcLi",
        "outputId": "ed3c39fc-3e4f-4f31-d077-b01040c15146"
      },
      "source": [
        "# Print y_train shape\n",
        "y_train.shape"
      ],
      "execution_count": 5,
      "outputs": [
        {
          "output_type": "execute_result",
          "data": {
            "text/plain": [
              "(50000, 1)"
            ]
          },
          "metadata": {
            "tags": []
          },
          "execution_count": 5
        }
      ]
    },
    {
      "cell_type": "code",
      "metadata": {
        "colab": {
          "base_uri": "https://localhost:8080/"
        },
        "id": "1GjcTy4dKhDO",
        "outputId": "588a4d02-bda5-4cb4-9547-963ace6eb2f6"
      },
      "source": [
        "# Print y_test shape\n",
        "y_test.shape"
      ],
      "execution_count": 6,
      "outputs": [
        {
          "output_type": "execute_result",
          "data": {
            "text/plain": [
              "(10000, 1)"
            ]
          },
          "metadata": {
            "tags": []
          },
          "execution_count": 6
        }
      ]
    },
    {
      "cell_type": "code",
      "metadata": {
        "id": "8XiVmmyPKym3"
      },
      "source": [
        "# Reshape y_train from (50000,1) to (50000,)\n",
        "y_train = y_train.reshape(50000)\n",
        "\n",
        "# Reshape y_train from (10000,1) to (10000,)\n",
        "y_test = y_test.reshape(10000)"
      ],
      "execution_count": 7,
      "outputs": []
    },
    {
      "cell_type": "code",
      "metadata": {
        "id": "ilpip1OMLaCR"
      },
      "source": [
        "# Get classes\n",
        "classes = [\"airplane\", \"automobile\", \"bird\", \"cat\", \"deer\", \"dog\", \"frog\", \"horse\", \"ship\", \"truck\"]"
      ],
      "execution_count": 8,
      "outputs": []
    },
    {
      "cell_type": "code",
      "metadata": {
        "id": "6B5O-3CjJAO6"
      },
      "source": [
        "# Define a function to plot images\n",
        "def plot_sample(X, y, index):\n",
        "  plt.figure(figsize = (2,2))\n",
        "  plt.imshow(X[index])\n",
        "  plt.xlabel(classes[y[index]])\n",
        "  plt.show()"
      ],
      "execution_count": 9,
      "outputs": []
    },
    {
      "cell_type": "code",
      "metadata": {
        "colab": {
          "base_uri": "https://localhost:8080/",
          "height": 173
        },
        "id": "CHVgaYQiJFAl",
        "outputId": "3de7ca7a-289b-4425-bf93-23c028255fa2"
      },
      "source": [
        "# Plot first image in X_train\n",
        "plot_sample(X_train, y_train, 0)"
      ],
      "execution_count": 10,
      "outputs": [
        {
          "output_type": "display_data",
          "data": {
            "image/png": "[encoded data removed]",
            "text/plain": [
              "<Figure size 144x144 with 1 Axes>"
            ]
          },
          "metadata": {
            "tags": [],
            "needs_background": "light"
          }
        }
      ]
    },
    {
      "cell_type": "code",
      "metadata": {
        "colab": {
          "base_uri": "https://localhost:8080/",
          "height": 173
        },
        "id": "Pd2TCjVqJHH-",
        "outputId": "8b32408a-0007-4456-b711-d164325200ff"
      },
      "source": [
        "# Plot second image in X_train\n",
        "plot_sample(X_train, y_train, 1)"
      ],
      "execution_count": 11,
      "outputs": [
        {
          "output_type": "display_data",
          "data": {
            "image/png": "[encoded data removed]",
            "text/plain": [
              "<Figure size 144x144 with 1 Axes>"
            ]
          },
          "metadata": {
            "tags": [],
            "needs_background": "light"
          }
        }
      ]
    },
    {
      "cell_type": "code",
      "metadata": {
        "id": "163fN0GEMiWJ"
      },
      "source": [
        "# Normalize X_train and X_test\n",
        "X_train = X_train / 255\n",
        "X_test = X_test / 255"
      ],
      "execution_count": 12,
      "outputs": []
    },
    {
      "cell_type": "code",
      "metadata": {
        "colab": {
          "base_uri": "https://localhost:8080/"
        },
        "id": "myFNKI1qMyvT",
        "outputId": "939d934c-9c44-465c-a6a5-c1547bce6fe3"
      },
      "source": [
        "# Build ANN Model\n",
        "ANN = models.Sequential([\n",
        "          layers.Flatten(input_shape = (32,32,3)),\n",
        "          layers.Dense(3000, activation = \"relu\"),\n",
        "          layers.Dense(1000, activation = \"relu\"),\n",
        "          layers.Dense(10, activation = \"sigmoid\")\n",
        "        ])\n",
        "\n",
        "ANN.compile(optimizer = \"SGD\", loss = \"sparse_categorical_crossentropy\", metrics = [\"accuracy\"])\n",
        "\n",
        "ANN.fit(X_train, y_train, epochs = 5)"
      ],
      "execution_count": 13,
      "outputs": [
        {
          "output_type": "stream",
          "text": [
            "Epoch 1/5\n",
            "1563/1563 [==============================] - 8s 3ms/step - loss: 1.8152 - accuracy: 0.3516\n",
            "Epoch 2/5\n",
            "1563/1563 [==============================] - 5s 3ms/step - loss: 1.6237 - accuracy: 0.4279\n",
            "Epoch 3/5\n",
            "1563/1563 [==============================] - 5s 3ms/step - loss: 1.5401 - accuracy: 0.4559\n",
            "Epoch 4/5\n",
            "1563/1563 [==============================] - 5s 3ms/step - loss: 1.4830 - accuracy: 0.4755\n",
            "Epoch 5/5\n",
            "1563/1563 [==============================] - 5s 3ms/step - loss: 1.4311 - accuracy: 0.4957\n"
          ],
          "name": "stdout"
        },
        {
          "output_type": "execute_result",
          "data": {
            "text/plain": [
              "<tensorflow.python.keras.callbacks.History at 0x7f38941bf910>"
            ]
          },
          "metadata": {
            "tags": []
          },
          "execution_count": 13
        }
      ]
    },
    {
      "cell_type": "code",
      "metadata": {
        "colab": {
          "base_uri": "https://localhost:8080/"
        },
        "id": "aNUdt58EObl-",
        "outputId": "78dcbb2a-6f4a-4abe-ecae-2d6191a2fc69"
      },
      "source": [
        "# Evaluate test data\n",
        "ANN.evaluate(X_test, y_test)"
      ],
      "execution_count": 14,
      "outputs": [
        {
          "output_type": "stream",
          "text": [
            "313/313 [==============================] - 1s 2ms/step - loss: 1.4826 - accuracy: 0.4701\n"
          ],
          "name": "stdout"
        },
        {
          "output_type": "execute_result",
          "data": {
            "text/plain": [
              "[1.4825959205627441, 0.4700999855995178]"
            ]
          },
          "metadata": {
            "tags": []
          },
          "execution_count": 14
        }
      ]
    },
    {
      "cell_type": "code",
      "metadata": {
        "colab": {
          "base_uri": "https://localhost:8080/"
        },
        "id": "xABQmygRPaCV",
        "outputId": "3a0aa57c-f7ff-4c0b-faf7-30f343b4996b"
      },
      "source": [
        "# Print Classification Report\n",
        "from sklearn.metrics import classification_report\n",
        "import numpy as np\n",
        "y_pred = ANN.predict(X_test)\n",
        "y_pred_classes = [np.argmax(i) for i in y_pred]\n",
        "print(\"Classification Report:\")\n",
        "print(classification_report(y_test, y_pred_classes))"
      ],
      "execution_count": 15,
      "outputs": [
        {
          "output_type": "stream",
          "text": [
            "Classification Report:\n",
            "              precision    recall  f1-score   support\n",
            "\n",
            "           0       0.52      0.54      0.53      1000\n",
            "           1       0.57      0.65      0.60      1000\n",
            "           2       0.31      0.46      0.37      1000\n",
            "           3       0.39      0.23      0.29      1000\n",
            "           4       0.36      0.49      0.42      1000\n",
            "           5       0.45      0.31      0.36      1000\n",
            "           6       0.46      0.58      0.51      1000\n",
            "           7       0.67      0.40      0.50      1000\n",
            "           8       0.52      0.66      0.58      1000\n",
            "           9       0.67      0.38      0.49      1000\n",
            "\n",
            "    accuracy                           0.47     10000\n",
            "   macro avg       0.49      0.47      0.47     10000\n",
            "weighted avg       0.49      0.47      0.47     10000\n",
            "\n"
          ],
          "name": "stdout"
        }
      ]
    },
    {
      "cell_type": "markdown",
      "metadata": {
        "id": "8_1JP8f4PoOf"
      },
      "source": [
        "*ANN is not Performing well with this data.*"
      ]
    },
    {
      "cell_type": "code",
      "metadata": {
        "id": "Bo4JjlrwPr2I"
      },
      "source": [
        "# Build CNN Model\n",
        "CNN = models.Sequential([\n",
        "          # cnn\n",
        "          layers.Conv2D(filters = 32, kernel_size = (3,3), activation = \"relu\", input_shape = (32,32,3)),\n",
        "          layers.MaxPooling2D((2,2)),\n",
        "\n",
        "          layers.Conv2D(filters = 64, kernel_size = (3,3), activation = \"relu\"),\n",
        "          layers.MaxPooling2D((2,2)),\n",
        "\n",
        "          #dense\n",
        "          layers.Flatten(),\n",
        "          layers.Dense(64, activation = \"relu\"),\n",
        "          layers.Dense(10, activation = \"softmax\")     \n",
        "      ])"
      ],
      "execution_count": 31,
      "outputs": []
    },
    {
      "cell_type": "code",
      "metadata": {
        "id": "h__SVks7SWgA"
      },
      "source": [
        "# Compile the CNN Model\n",
        "CNN.compile(optimizer = \"adam\",\n",
        "            loss = \"sparse_categorical_crossentropy\",\n",
        "            metrics = [\"accuracy\"])"
      ],
      "execution_count": 32,
      "outputs": []
    },
    {
      "cell_type": "code",
      "metadata": {
        "colab": {
          "base_uri": "https://localhost:8080/"
        },
        "id": "N_f-SqQNTIpj",
        "outputId": "a596ccd7-690a-472b-c482-545911a46686"
      },
      "source": [
        "# Fit the training data\n",
        "CNN.fit(X_train, y_train, epochs = 15)"
      ],
      "execution_count": 33,
      "outputs": [
        {
          "output_type": "stream",
          "text": [
            "Epoch 1/15\n",
            "1563/1563 [==============================] - 5s 3ms/step - loss: 1.4644 - accuracy: 0.4779\n",
            "Epoch 2/15\n",
            "1563/1563 [==============================] - 5s 3ms/step - loss: 1.1294 - accuracy: 0.6064\n",
            "Epoch 3/15\n",
            "1563/1563 [==============================] - 5s 3ms/step - loss: 1.0028 - accuracy: 0.6520\n",
            "Epoch 4/15\n",
            "1563/1563 [==============================] - 5s 3ms/step - loss: 0.9292 - accuracy: 0.6790\n",
            "Epoch 5/15\n",
            "1563/1563 [==============================] - 5s 3ms/step - loss: 0.8662 - accuracy: 0.6990\n",
            "Epoch 6/15\n",
            "1563/1563 [==============================] - 5s 3ms/step - loss: 0.8117 - accuracy: 0.7175\n",
            "Epoch 7/15\n",
            "1563/1563 [==============================] - 5s 3ms/step - loss: 0.7657 - accuracy: 0.7348\n",
            "Epoch 8/15\n",
            "1563/1563 [==============================] - 5s 3ms/step - loss: 0.7255 - accuracy: 0.7487\n",
            "Epoch 9/15\n",
            "1563/1563 [==============================] - 5s 3ms/step - loss: 0.6842 - accuracy: 0.7619\n",
            "Epoch 10/15\n",
            "1563/1563 [==============================] - 5s 3ms/step - loss: 0.6479 - accuracy: 0.7732\n",
            "Epoch 11/15\n",
            "1563/1563 [==============================] - 5s 3ms/step - loss: 0.6163 - accuracy: 0.7848\n",
            "Epoch 12/15\n",
            "1563/1563 [==============================] - 5s 3ms/step - loss: 0.5861 - accuracy: 0.7955\n",
            "Epoch 13/15\n",
            "1563/1563 [==============================] - 5s 3ms/step - loss: 0.5527 - accuracy: 0.8065\n",
            "Epoch 14/15\n",
            "1563/1563 [==============================] - 5s 3ms/step - loss: 0.5244 - accuracy: 0.8163\n",
            "Epoch 15/15\n",
            "1563/1563 [==============================] - 5s 3ms/step - loss: 0.4938 - accuracy: 0.8255\n"
          ],
          "name": "stdout"
        },
        {
          "output_type": "execute_result",
          "data": {
            "text/plain": [
              "<tensorflow.python.keras.callbacks.History at 0x7f37fe3b5910>"
            ]
          },
          "metadata": {
            "tags": []
          },
          "execution_count": 33
        }
      ]
    },
    {
      "cell_type": "code",
      "metadata": {
        "colab": {
          "base_uri": "https://localhost:8080/"
        },
        "id": "AedD1TCYTU0p",
        "outputId": "d751990d-a4b3-40e6-8513-b4b44a80969a"
      },
      "source": [
        "# Evaluate the Model with test data\n",
        "CNN.evaluate(X_test, y_test)"
      ],
      "execution_count": 34,
      "outputs": [
        {
          "output_type": "stream",
          "text": [
            "313/313 [==============================] - 1s 2ms/step - loss: 1.0541 - accuracy: 0.6866\n"
          ],
          "name": "stdout"
        },
        {
          "output_type": "execute_result",
          "data": {
            "text/plain": [
              "[1.0540542602539062, 0.6866000294685364]"
            ]
          },
          "metadata": {
            "tags": []
          },
          "execution_count": 34
        }
      ]
    },
    {
      "cell_type": "code",
      "metadata": {
        "colab": {
          "base_uri": "https://localhost:8080/",
          "height": 173
        },
        "id": "kKefrC7mU7Ff",
        "outputId": "63764311-4a25-41bd-9629-e61839715a3f"
      },
      "source": [
        "plot_sample(X_test, y_test, 1)"
      ],
      "execution_count": 36,
      "outputs": [
        {
          "output_type": "display_data",
          "data": {
            "image/png": "[encoded data removed]",
            "text/plain": [
              "<Figure size 144x144 with 1 Axes>"
            ]
          },
          "metadata": {
            "tags": [],
            "needs_background": "light"
          }
        }
      ]
    },
    {
      "cell_type": "code",
      "metadata": {
        "colab": {
          "base_uri": "https://localhost:8080/"
        },
        "id": "ZrsM29edXkG7",
        "outputId": "3a8f6bbb-748b-4456-f4c1-3c7fc141fcd7"
      },
      "source": [
        "# Predict with X_test\n",
        "y_pred = CNN.predict(X_test)\n",
        "# Print y_pred\n",
        "y_pred"
      ],
      "execution_count": 38,
      "outputs": [
        {
          "output_type": "execute_result",
          "data": {
            "text/plain": [
              "array([[6.6109543e-04, 1.0730433e-05, 3.7704708e-04, ..., 7.5567434e-05,\n",
              "        9.5850276e-03, 1.4871039e-04],\n",
              "       [1.4745165e-04, 6.6288990e-01, 1.9014990e-08, ..., 3.9322867e-10,\n",
              "        3.1682080e-01, 2.0141628e-02],\n",
              "       [1.0066913e-02, 4.4192776e-01, 5.0457238e-05, ..., 4.1492171e-05,\n",
              "        5.2869362e-01, 1.8415289e-02],\n",
              "       ...,\n",
              "       [4.1749544e-04, 1.0688671e-07, 4.1849602e-02, ..., 1.7821236e-02,\n",
              "        3.1565462e-05, 4.8253855e-06],\n",
              "       [2.4390329e-01, 7.9735845e-02, 5.4812292e-04, ..., 2.4566229e-04,\n",
              "        8.5334927e-05, 7.0643742e-05],\n",
              "       [3.1188762e-07, 1.3056062e-10, 9.9632291e-07, ..., 9.9991834e-01,\n",
              "        6.7512917e-10, 4.7974766e-09]], dtype=float32)"
            ]
          },
          "metadata": {
            "tags": []
          },
          "execution_count": 38
        }
      ]
    },
    {
      "cell_type": "code",
      "metadata": {
        "id": "iMtA6-WqX6K-"
      },
      "source": [
        "# Convert into Classes\n",
        "y_classes = [np.argmax(i) for i in y_pred]"
      ],
      "execution_count": 40,
      "outputs": []
    },
    {
      "cell_type": "code",
      "metadata": {
        "colab": {
          "base_uri": "https://localhost:8080/"
        },
        "id": "H2m5eto8YIGb",
        "outputId": "dc422f91-78ad-4da0-d018-7b69d8c0ca65"
      },
      "source": [
        "y_classes[:5]"
      ],
      "execution_count": 42,
      "outputs": [
        {
          "output_type": "execute_result",
          "data": {
            "text/plain": [
              "[3, 1, 8, 0, 4]"
            ]
          },
          "metadata": {
            "tags": []
          },
          "execution_count": 42
        }
      ]
    },
    {
      "cell_type": "code",
      "metadata": {
        "colab": {
          "base_uri": "https://localhost:8080/",
          "height": 173
        },
        "id": "NGnufcJJYTcX",
        "outputId": "dcfbae5c-5e58-4a5f-a99e-55c13fc136ac"
      },
      "source": [
        "plot_sample(X_test, y_test, 0)"
      ],
      "execution_count": 45,
      "outputs": [
        {
          "output_type": "display_data",
          "data": {
            "image/png": "[encoded data removed]",
            "text/plain": [
              "<Figure size 144x144 with 1 Axes>"
            ]
          },
          "metadata": {
            "tags": [],
            "needs_background": "light"
          }
        }
      ]
    },
    {
      "cell_type": "code",
      "metadata": {
        "colab": {
          "base_uri": "https://localhost:8080/",
          "height": 35
        },
        "id": "GzjdHpRoYbH3",
        "outputId": "cc1f9e0c-eb49-4182-a06d-eaee8cfbf88a"
      },
      "source": [
        "classes[y_classes[0]]"
      ],
      "execution_count": 49,
      "outputs": [
        {
          "output_type": "execute_result",
          "data": {
            "application/vnd.google.colaboratory.intrinsic+json": {
              "type": "string"
            },
            "text/plain": [
              "'cat'"
            ]
          },
          "metadata": {
            "tags": []
          },
          "execution_count": 49
        }
      ]
    },
    {
      "cell_type": "code",
      "metadata": {
        "colab": {
          "base_uri": "https://localhost:8080/",
          "height": 173
        },
        "id": "OTL-oC90Y2H9",
        "outputId": "db5ee7c8-2bae-4b19-82b1-c9be3f91017e"
      },
      "source": [
        "plot_sample(X_test, y_test, 1)"
      ],
      "execution_count": 50,
      "outputs": [
        {
          "output_type": "display_data",
          "data": {
            "image/png": "[encoded data removed]",
            "text/plain": [
              "<Figure size 144x144 with 1 Axes>"
            ]
          },
          "metadata": {
            "tags": [],
            "needs_background": "light"
          }
        }
      ]
    },
    {
      "cell_type": "code",
      "metadata": {
        "colab": {
          "base_uri": "https://localhost:8080/",
          "height": 35
        },
        "id": "vdxtuqAUZW4A",
        "outputId": "8b9f04b0-1e06-44c5-9cf8-6801654c3d7c"
      },
      "source": [
        "classes[y_classes[1]]"
      ],
      "execution_count": 51,
      "outputs": [
        {
          "output_type": "execute_result",
          "data": {
            "application/vnd.google.colaboratory.intrinsic+json": {
              "type": "string"
            },
            "text/plain": [
              "'automobile'"
            ]
          },
          "metadata": {
            "tags": []
          },
          "execution_count": 51
        }
      ]
    },
    {
      "cell_type": "code",
      "metadata": {
        "colab": {
          "base_uri": "https://localhost:8080/",
          "height": 173
        },
        "id": "68gfulVPZa6P",
        "outputId": "6c019cf2-e79a-4609-bd3d-1474985cab43"
      },
      "source": [
        "plot_sample(X_test, y_test, 2)"
      ],
      "execution_count": 52,
      "outputs": [
        {
          "output_type": "display_data",
          "data": {
            "image/png": "[encoded data removed]",
            "text/plain": [
              "<Figure size 144x144 with 1 Axes>"
            ]
          },
          "metadata": {
            "tags": [],
            "needs_background": "light"
          }
        }
      ]
    },
    {
      "cell_type": "code",
      "metadata": {
        "colab": {
          "base_uri": "https://localhost:8080/",
          "height": 35
        },
        "id": "X27iaCfcZh8P",
        "outputId": "243e937a-1f09-4d32-f4f3-d6c5716723f6"
      },
      "source": [
        "classes[y_classes[2]]"
      ],
      "execution_count": 53,
      "outputs": [
        {
          "output_type": "execute_result",
          "data": {
            "application/vnd.google.colaboratory.intrinsic+json": {
              "type": "string"
            },
            "text/plain": [
              "'ship'"
            ]
          },
          "metadata": {
            "tags": []
          },
          "execution_count": 53
        }
      ]
    }
  ]
}